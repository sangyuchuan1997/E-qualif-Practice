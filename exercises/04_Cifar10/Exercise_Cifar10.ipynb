{
  "cells": [
    {
      "cell_type": "markdown",
      "metadata": {
        "id": "YVDhKG_raLJq"
      },
      "source": [
        "# 修了課題④　CIFAR-10\n",
        "\n",
        "**データセット**：CIFAR-10データセット（Canadian Institute For Advanced Research）（以下、CIFAR-10）は、\n",
        "\n",
        "- ラベル「0」：airplane（飛行機）\n",
        "- ラベル「1」：automobible（自動車）\n",
        "- ラベル「2」：bird（鳥）\n",
        "- ラベル「3」：cat（猫）\n",
        "- ラベル「4」：deer（鹿）\n",
        "- ラベル「5」：dog（犬）\n",
        "- ラベル「6」：frog（カエル）\n",
        "- ラベル「7」：horse（馬）\n",
        "- ラベル「8」：ship（船）\n",
        "- ラベル「9」：truck（トラック）\n",
        "\n",
        "という10種類の「物体カラー写真」（乗り物や動物など）の画像データセットである。\n",
        "\n",
        "CIFAR-10は、主に画像認識を目的としたディープラーニング／機械学習の研究や初心者向けチュートリアルで使われている。CIFAR-10は上記の通り10クラス（種類）となっており手軽に扱えるが、より複雑な内容として100クラス版であるCIFAR-100も提供されている。\n",
        "\n",
        "CIFAR-10データセット全体は、\n",
        "\n",
        "- 5万枚の訓練データ用（画像とラベル）\n",
        "- 1万枚のテストデータ用（画像とラベル）\n",
        "- 合計6万枚\n",
        "\n",
        "で構成される（※「ラベル」= 正解を示す教師データ）。また各画像のフォーマットは、\n",
        "\n",
        "- 24bit RGBフルカラー画像：RGB（赤色／緑色／青色）3色の組み合わせで、それぞれ「0」〜「255」の256段階\n",
        "- 幅32x高さ32ピクセル：1つ分のデータが基本的に(3,32,32)もしくは(32,32,3)（=計3072画素）という多次元配列の形状となっており、最初もしくは最後の次元にある3要素がRGB値\n",
        "\n",
        "となっている（※「ピクセル」=画素のこと。RGB形式であるため、簡単に画像化できる）。\n",
        "\n",
        "**合格基準**：正解率 85%以上です"
      ]
    },
    {
      "cell_type": "markdown",
      "metadata": {
        "id": "QVOc238jnrhX"
      },
      "source": [
        "##作成までの流れ\n",
        "大まかな流れとして\n",
        "1. データのダウンロードと正規化  \n",
        "   torchvisionというライブラリを使用して、CIFAR10の訓練用のデータ、テスト用のデータをダウンロードします。  \n",
        "   また、ダウンロードした画像に対して正規化を行います。\n",
        "\n",
        "2. モデルの構築  \n",
        "   学習を行うモデルの各層の役割を理解して、構築します。\n",
        "\n",
        "3. 損失関数などの設定  \n",
        "   学習を行うのに必要な損失関数などの設定を行います。\n",
        "\n",
        "4. 学習と結果  \n",
        "   訓練データで学習を行い、どのくらいの精度があるのかを、テスト用データを使って確認します。"
      ]
    },
    {
      "cell_type": "markdown",
      "metadata": {
        "id": "El2HCYFQLPCk"
      },
      "source": [
        "##必要なライブラリーのインポートとGoogleDriveへの接続"
      ]
    },
    {
      "cell_type": "code",
      "execution_count": null,
      "metadata": {
        "colab": {
          "base_uri": "https://localhost:8080/"
        },
        "id": "ttDjTe5Tg29q",
        "outputId": "0d26f018-f757-46f8-a1e5-b8bddf04f9b8"
      },
      "outputs": [
        {
          "name": "stdout",
          "output_type": "stream",
          "text": [
            "Mounted at /content/drive\n"
          ]
        }
      ],
      "source": [
        "#GoogleDriveへの接続を行う\n",
        "from google.colab import drive\n",
        "drive.mount('/content/drive')"
      ]
    },
    {
      "cell_type": "code",
      "execution_count": null,
      "metadata": {
        "id": "lFzORB9GKRT_"
      },
      "outputs": [],
      "source": [
        "#必要なライブラリーのインポート\n",
        "import numpy as np\n",
        "import matplotlib.pyplot as plt\n",
        "import torch\n",
        "import torchvision\n",
        "import torchvision.transforms as transforms\n",
        "import torch.nn as nn\n",
        "import torch.nn.functional as F\n",
        "import torch.optim as optim\n",
        "\n",
        "#ダウンロードに必要なライブラリーのインポート\n",
        "import pickle\n",
        "from PIL import Image\n",
        "import os"
      ]
    },
    {
      "cell_type": "markdown",
      "metadata": {
        "id": "OBy0sscFp2eZ"
      },
      "source": [
        "#1.データのダウンロードと正規化"
      ]
    },
    {
      "cell_type": "code",
      "execution_count": null,
      "metadata": {
        "colab": {
          "base_uri": "https://localhost:8080/"
        },
        "id": "rTkCC2KOoHgH",
        "outputId": "e5193135-382c-4c9b-f7c6-3adf5cefbf3a"
      },
      "outputs": [
        {
          "name": "stdout",
          "output_type": "stream",
          "text": [
            "--2025-01-29 06:22:09--  https://drive.google.com/uc?export=download&id=15kspx4XmoR5Kh1fKkdxjjPcn_Y8tkaP3\n",
            "Resolving drive.google.com (drive.google.com)... 74.125.142.101, 74.125.142.138, 74.125.142.139, ...\n",
            "Connecting to drive.google.com (drive.google.com)|74.125.142.101|:443... connected.\n",
            "HTTP request sent, awaiting response... 303 See Other\n",
            "Location: https://drive.usercontent.google.com/download?id=15kspx4XmoR5Kh1fKkdxjjPcn_Y8tkaP3&export=download [following]\n",
            "--2025-01-29 06:22:09--  https://drive.usercontent.google.com/download?id=15kspx4XmoR5Kh1fKkdxjjPcn_Y8tkaP3&export=download\n",
            "Resolving drive.usercontent.google.com (drive.usercontent.google.com)... 74.125.142.132, 2607:f8b0:400e:c0d::84\n",
            "Connecting to drive.usercontent.google.com (drive.usercontent.google.com)|74.125.142.132|:443... connected.\n",
            "HTTP request sent, awaiting response... 200 OK\n",
            "Length: 31319904 (30M) [application/octet-stream]\n",
            "Saving to: ‘train.pickle’\n",
            "\n",
            "train.pickle        100%[===================>]  29.87M  76.4MB/s    in 0.4s    \n",
            "\n",
            "2025-01-29 06:22:14 (76.4 MB/s) - ‘train.pickle’ saved [31319904/31319904]\n",
            "\n"
          ]
        }
      ],
      "source": [
        "!wget 'https://drive.google.com/uc?export=download&id=15kspx4XmoR5Kh1fKkdxjjPcn_Y8tkaP3' -O train.pickle"
      ]
    },
    {
      "cell_type": "code",
      "execution_count": null,
      "metadata": {
        "colab": {
          "base_uri": "https://localhost:8080/"
        },
        "id": "R6ftoubsIVlN",
        "outputId": "3d9e56ad-04e5-40ac-971d-d0475fe14170"
      },
      "outputs": [
        {
          "name": "stdout",
          "output_type": "stream",
          "text": [
            "--2025-01-29 06:22:14--  https://drive.google.com/uc?export=download&id=1-QKklgEpROkVIUnaLQ9dKgfCK_mp78xN\n",
            "Resolving drive.google.com (drive.google.com)... 74.125.142.101, 74.125.142.138, 74.125.142.139, ...\n",
            "Connecting to drive.google.com (drive.google.com)|74.125.142.101|:443... connected.\n",
            "HTTP request sent, awaiting response... 303 See Other\n",
            "Location: https://drive.usercontent.google.com/download?id=1-QKklgEpROkVIUnaLQ9dKgfCK_mp78xN&export=download [following]\n",
            "--2025-01-29 06:22:14--  https://drive.usercontent.google.com/download?id=1-QKklgEpROkVIUnaLQ9dKgfCK_mp78xN&export=download\n",
            "Resolving drive.usercontent.google.com (drive.usercontent.google.com)... 74.125.142.132, 2607:f8b0:400e:c0d::84\n",
            "Connecting to drive.usercontent.google.com (drive.usercontent.google.com)|74.125.142.132|:443... connected.\n",
            "HTTP request sent, awaiting response... 200 OK\n",
            "Length: 6264552 (6.0M) [application/octet-stream]\n",
            "Saving to: ‘val.pickle’\n",
            "\n",
            "val.pickle          100%[===================>]   5.97M  --.-KB/s    in 0.07s   \n",
            "\n",
            "2025-01-29 06:22:18 (91.5 MB/s) - ‘val.pickle’ saved [6264552/6264552]\n",
            "\n"
          ]
        }
      ],
      "source": [
        "!wget 'https://drive.google.com/uc?export=download&id=1-QKklgEpROkVIUnaLQ9dKgfCK_mp78xN' -O val.pickle"
      ]
    },
    {
      "cell_type": "code",
      "execution_count": null,
      "metadata": {
        "id": "sx_K_cnkIvqf"
      },
      "outputs": [],
      "source": [
        "# バイナリファイルを読み込んでから、画像データに変換処理を行う。\n",
        "def parse_pickle(rawdata, dataset_name):\n",
        "    for i in range(10):\n",
        "        dir = dataset_name + \"/\" + f\"{i:02d}\"\n",
        "        if not os.path.exists(dir):\n",
        "            os.makedirs(dir)\n",
        "    m = len(rawdata[\"data\"])\n",
        "    for i in range(m):\n",
        "        filename = f'{i}.png'\n",
        "        label = rawdata[\"label\"][i]\n",
        "        data = rawdata[\"data\"][i]\n",
        "        data = data.reshape(3, 32, 32)\n",
        "        data = np.swapaxes(data, 0, 2)\n",
        "        data = np.swapaxes(data, 0, 1)\n",
        "        with Image.fromarray(data) as img:\n",
        "            img.save(f\"{dataset_name}/{label:02d}/{filename}\")\n",
        "\n",
        "train = {'label':[], 'data':[]}\n",
        "with open('train.pickle', \"rb\") as fp:\n",
        "  train = pickle.load(fp, encoding=\"latin-1\")\n",
        "parse_pickle(train, \"train\")\n",
        "\n",
        "with open('val.pickle', \"rb\") as fp:\n",
        "  val = pickle.load(fp, encoding=\"latin-1\")\n",
        "parse_pickle(val, \"val\")"
      ]
    },
    {
      "cell_type": "code",
      "execution_count": null,
      "metadata": {
        "id": "srr1_iuHTRkD"
      },
      "outputs": [],
      "source": [
        "# データ拡張の設定\n",
        "transform = transforms.Compose([transforms.ToTensor(),\n",
        "                                transforms.Normalize((0.5, 0.5, 0.5), (0.5, 0.5, 0.5))\n",
        "                                #もっと増やしてみてもいいかもしれません\n",
        "                                ])"
      ]
    },
    {
      "cell_type": "code",
      "execution_count": null,
      "metadata": {
        "id": "ikxwktskLUzg"
      },
      "outputs": [],
      "source": [
        "# バッチサイズの設定\n",
        "batch_size = 25\n",
        "\n",
        "# データローダーの設定\n",
        "trainset = torchvision.datasets.ImageFolder(root='train', transform=transform)\n",
        "trainloader = torch.utils.data.DataLoader(trainset, batch_size=batch_size, shuffle=True, num_workers=2)\n",
        "\n",
        "valset = torchvision.datasets.ImageFolder(root='val', transform=transform)\n",
        "valloader = torch.utils.data.DataLoader(valset, batch_size=batch_size,shuffle=False, num_workers=2)\n",
        "\n",
        "classes = ('plane', 'car', 'bird', 'cat', 'deer', 'dog', 'frog', 'horse', 'ship', 'truck')"
      ]
    },
    {
      "cell_type": "code",
      "execution_count": null,
      "metadata": {
        "colab": {
          "base_uri": "https://localhost:8080/"
        },
        "id": "wfh6BJFfpX1i",
        "outputId": "00522b1e-ddeb-4e61-fbf9-b64a2ea19c39"
      },
      "outputs": [
        {
          "name": "stdout",
          "output_type": "stream",
          "text": [
            "学習データ: 10000\n",
            "検証データ: 2000\n"
          ]
        }
      ],
      "source": [
        "print('学習データ:', len(trainset))\n",
        "print('検証データ:', len(valset))"
      ]
    },
    {
      "cell_type": "code",
      "execution_count": null,
      "metadata": {
        "colab": {
          "base_uri": "https://localhost:8080/"
        },
        "id": "mGOc7w5-YOs7",
        "outputId": "d9bc0b78-788b-4a3b-b6b2-2f44a04d76e3"
      },
      "outputs": [
        {
          "name": "stderr",
          "output_type": "stream",
          "text": [
            "/usr/local/lib/python3.11/dist-packages/torchvision/models/_utils.py:208: UserWarning: The parameter 'pretrained' is deprecated since 0.13 and may be removed in the future, please use 'weights' instead.\n",
            "  warnings.warn(\n",
            "/usr/local/lib/python3.11/dist-packages/torchvision/models/_utils.py:223: UserWarning: Arguments other than a weight enum or `None` for 'weights' are deprecated since 0.13 and may be removed in the future. The current behavior is equivalent to passing `weights=ConvNeXt_Base_Weights.IMAGENET1K_V1`. You can also use `weights=ConvNeXt_Base_Weights.DEFAULT` to get the most up-to-date weights.\n",
            "  warnings.warn(msg)\n",
            "Downloading: \"https://download.pytorch.org/models/convnext_base-6075fbad.pth\" to /root/.cache/torch/hub/checkpoints/convnext_base-6075fbad.pth\n",
            "100%|██████████| 338M/338M [00:04<00:00, 77.9MB/s]\n"
          ]
        },
        {
          "data": {
            "text/plain": [
              "ConvNeXt(\n",
              "  (features): Sequential(\n",
              "    (0): Conv2dNormActivation(\n",
              "      (0): Conv2d(3, 128, kernel_size=(4, 4), stride=(4, 4))\n",
              "      (1): LayerNorm2d((128,), eps=1e-06, elementwise_affine=True)\n",
              "    )\n",
              "    (1): Sequential(\n",
              "      (0): CNBlock(\n",
              "        (block): Sequential(\n",
              "          (0): Conv2d(128, 128, kernel_size=(7, 7), stride=(1, 1), padding=(3, 3), groups=128)\n",
              "          (1): Permute()\n",
              "          (2): LayerNorm((128,), eps=1e-06, elementwise_affine=True)\n",
              "          (3): Linear(in_features=128, out_features=512, bias=True)\n",
              "          (4): GELU(approximate='none')\n",
              "          (5): Linear(in_features=512, out_features=128, bias=True)\n",
              "          (6): Permute()\n",
              "        )\n",
              "        (stochastic_depth): StochasticDepth(p=0.0, mode=row)\n",
              "      )\n",
              "      (1): CNBlock(\n",
              "        (block): Sequential(\n",
              "          (0): Conv2d(128, 128, kernel_size=(7, 7), stride=(1, 1), padding=(3, 3), groups=128)\n",
              "          (1): Permute()\n",
              "          (2): LayerNorm((128,), eps=1e-06, elementwise_affine=True)\n",
              "          (3): Linear(in_features=128, out_features=512, bias=True)\n",
              "          (4): GELU(approximate='none')\n",
              "          (5): Linear(in_features=512, out_features=128, bias=True)\n",
              "          (6): Permute()\n",
              "        )\n",
              "        (stochastic_depth): StochasticDepth(p=0.014285714285714285, mode=row)\n",
              "      )\n",
              "      (2): CNBlock(\n",
              "        (block): Sequential(\n",
              "          (0): Conv2d(128, 128, kernel_size=(7, 7), stride=(1, 1), padding=(3, 3), groups=128)\n",
              "          (1): Permute()\n",
              "          (2): LayerNorm((128,), eps=1e-06, elementwise_affine=True)\n",
              "          (3): Linear(in_features=128, out_features=512, bias=True)\n",
              "          (4): GELU(approximate='none')\n",
              "          (5): Linear(in_features=512, out_features=128, bias=True)\n",
              "          (6): Permute()\n",
              "        )\n",
              "        (stochastic_depth): StochasticDepth(p=0.02857142857142857, mode=row)\n",
              "      )\n",
              "    )\n",
              "    (2): Sequential(\n",
              "      (0): LayerNorm2d((128,), eps=1e-06, elementwise_affine=True)\n",
              "      (1): Conv2d(128, 256, kernel_size=(2, 2), stride=(2, 2))\n",
              "    )\n",
              "    (3): Sequential(\n",
              "      (0): CNBlock(\n",
              "        (block): Sequential(\n",
              "          (0): Conv2d(256, 256, kernel_size=(7, 7), stride=(1, 1), padding=(3, 3), groups=256)\n",
              "          (1): Permute()\n",
              "          (2): LayerNorm((256,), eps=1e-06, elementwise_affine=True)\n",
              "          (3): Linear(in_features=256, out_features=1024, bias=True)\n",
              "          (4): GELU(approximate='none')\n",
              "          (5): Linear(in_features=1024, out_features=256, bias=True)\n",
              "          (6): Permute()\n",
              "        )\n",
              "        (stochastic_depth): StochasticDepth(p=0.04285714285714286, mode=row)\n",
              "      )\n",
              "      (1): CNBlock(\n",
              "        (block): Sequential(\n",
              "          (0): Conv2d(256, 256, kernel_size=(7, 7), stride=(1, 1), padding=(3, 3), groups=256)\n",
              "          (1): Permute()\n",
              "          (2): LayerNorm((256,), eps=1e-06, elementwise_affine=True)\n",
              "          (3): Linear(in_features=256, out_features=1024, bias=True)\n",
              "          (4): GELU(approximate='none')\n",
              "          (5): Linear(in_features=1024, out_features=256, bias=True)\n",
              "          (6): Permute()\n",
              "        )\n",
              "        (stochastic_depth): StochasticDepth(p=0.05714285714285714, mode=row)\n",
              "      )\n",
              "      (2): CNBlock(\n",
              "        (block): Sequential(\n",
              "          (0): Conv2d(256, 256, kernel_size=(7, 7), stride=(1, 1), padding=(3, 3), groups=256)\n",
              "          (1): Permute()\n",
              "          (2): LayerNorm((256,), eps=1e-06, elementwise_affine=True)\n",
              "          (3): Linear(in_features=256, out_features=1024, bias=True)\n",
              "          (4): GELU(approximate='none')\n",
              "          (5): Linear(in_features=1024, out_features=256, bias=True)\n",
              "          (6): Permute()\n",
              "        )\n",
              "        (stochastic_depth): StochasticDepth(p=0.07142857142857142, mode=row)\n",
              "      )\n",
              "    )\n",
              "    (4): Sequential(\n",
              "      (0): LayerNorm2d((256,), eps=1e-06, elementwise_affine=True)\n",
              "      (1): Conv2d(256, 512, kernel_size=(2, 2), stride=(2, 2))\n",
              "    )\n",
              "    (5): Sequential(\n",
              "      (0): CNBlock(\n",
              "        (block): Sequential(\n",
              "          (0): Conv2d(512, 512, kernel_size=(7, 7), stride=(1, 1), padding=(3, 3), groups=512)\n",
              "          (1): Permute()\n",
              "          (2): LayerNorm((512,), eps=1e-06, elementwise_affine=True)\n",
              "          (3): Linear(in_features=512, out_features=2048, bias=True)\n",
              "          (4): GELU(approximate='none')\n",
              "          (5): Linear(in_features=2048, out_features=512, bias=True)\n",
              "          (6): Permute()\n",
              "        )\n",
              "        (stochastic_depth): StochasticDepth(p=0.08571428571428572, mode=row)\n",
              "      )\n",
              "      (1): CNBlock(\n",
              "        (block): Sequential(\n",
              "          (0): Conv2d(512, 512, kernel_size=(7, 7), stride=(1, 1), padding=(3, 3), groups=512)\n",
              "          (1): Permute()\n",
              "          (2): LayerNorm((512,), eps=1e-06, elementwise_affine=True)\n",
              "          (3): Linear(in_features=512, out_features=2048, bias=True)\n",
              "          (4): GELU(approximate='none')\n",
              "          (5): Linear(in_features=2048, out_features=512, bias=True)\n",
              "          (6): Permute()\n",
              "        )\n",
              "        (stochastic_depth): StochasticDepth(p=0.1, mode=row)\n",
              "      )\n",
              "      (2): CNBlock(\n",
              "        (block): Sequential(\n",
              "          (0): Conv2d(512, 512, kernel_size=(7, 7), stride=(1, 1), padding=(3, 3), groups=512)\n",
              "          (1): Permute()\n",
              "          (2): LayerNorm((512,), eps=1e-06, elementwise_affine=True)\n",
              "          (3): Linear(in_features=512, out_features=2048, bias=True)\n",
              "          (4): GELU(approximate='none')\n",
              "          (5): Linear(in_features=2048, out_features=512, bias=True)\n",
              "          (6): Permute()\n",
              "        )\n",
              "        (stochastic_depth): StochasticDepth(p=0.11428571428571428, mode=row)\n",
              "      )\n",
              "      (3): CNBlock(\n",
              "        (block): Sequential(\n",
              "          (0): Conv2d(512, 512, kernel_size=(7, 7), stride=(1, 1), padding=(3, 3), groups=512)\n",
              "          (1): Permute()\n",
              "          (2): LayerNorm((512,), eps=1e-06, elementwise_affine=True)\n",
              "          (3): Linear(in_features=512, out_features=2048, bias=True)\n",
              "          (4): GELU(approximate='none')\n",
              "          (5): Linear(in_features=2048, out_features=512, bias=True)\n",
              "          (6): Permute()\n",
              "        )\n",
              "        (stochastic_depth): StochasticDepth(p=0.12857142857142856, mode=row)\n",
              "      )\n",
              "      (4): CNBlock(\n",
              "        (block): Sequential(\n",
              "          (0): Conv2d(512, 512, kernel_size=(7, 7), stride=(1, 1), padding=(3, 3), groups=512)\n",
              "          (1): Permute()\n",
              "          (2): LayerNorm((512,), eps=1e-06, elementwise_affine=True)\n",
              "          (3): Linear(in_features=512, out_features=2048, bias=True)\n",
              "          (4): GELU(approximate='none')\n",
              "          (5): Linear(in_features=2048, out_features=512, bias=True)\n",
              "          (6): Permute()\n",
              "        )\n",
              "        (stochastic_depth): StochasticDepth(p=0.14285714285714285, mode=row)\n",
              "      )\n",
              "      (5): CNBlock(\n",
              "        (block): Sequential(\n",
              "          (0): Conv2d(512, 512, kernel_size=(7, 7), stride=(1, 1), padding=(3, 3), groups=512)\n",
              "          (1): Permute()\n",
              "          (2): LayerNorm((512,), eps=1e-06, elementwise_affine=True)\n",
              "          (3): Linear(in_features=512, out_features=2048, bias=True)\n",
              "          (4): GELU(approximate='none')\n",
              "          (5): Linear(in_features=2048, out_features=512, bias=True)\n",
              "          (6): Permute()\n",
              "        )\n",
              "        (stochastic_depth): StochasticDepth(p=0.15714285714285714, mode=row)\n",
              "      )\n",
              "      (6): CNBlock(\n",
              "        (block): Sequential(\n",
              "          (0): Conv2d(512, 512, kernel_size=(7, 7), stride=(1, 1), padding=(3, 3), groups=512)\n",
              "          (1): Permute()\n",
              "          (2): LayerNorm((512,), eps=1e-06, elementwise_affine=True)\n",
              "          (3): Linear(in_features=512, out_features=2048, bias=True)\n",
              "          (4): GELU(approximate='none')\n",
              "          (5): Linear(in_features=2048, out_features=512, bias=True)\n",
              "          (6): Permute()\n",
              "        )\n",
              "        (stochastic_depth): StochasticDepth(p=0.17142857142857143, mode=row)\n",
              "      )\n",
              "      (7): CNBlock(\n",
              "        (block): Sequential(\n",
              "          (0): Conv2d(512, 512, kernel_size=(7, 7), stride=(1, 1), padding=(3, 3), groups=512)\n",
              "          (1): Permute()\n",
              "          (2): LayerNorm((512,), eps=1e-06, elementwise_affine=True)\n",
              "          (3): Linear(in_features=512, out_features=2048, bias=True)\n",
              "          (4): GELU(approximate='none')\n",
              "          (5): Linear(in_features=2048, out_features=512, bias=True)\n",
              "          (6): Permute()\n",
              "        )\n",
              "        (stochastic_depth): StochasticDepth(p=0.18571428571428572, mode=row)\n",
              "      )\n",
              "      (8): CNBlock(\n",
              "        (block): Sequential(\n",
              "          (0): Conv2d(512, 512, kernel_size=(7, 7), stride=(1, 1), padding=(3, 3), groups=512)\n",
              "          (1): Permute()\n",
              "          (2): LayerNorm((512,), eps=1e-06, elementwise_affine=True)\n",
              "          (3): Linear(in_features=512, out_features=2048, bias=True)\n",
              "          (4): GELU(approximate='none')\n",
              "          (5): Linear(in_features=2048, out_features=512, bias=True)\n",
              "          (6): Permute()\n",
              "        )\n",
              "        (stochastic_depth): StochasticDepth(p=0.2, mode=row)\n",
              "      )\n",
              "      (9): CNBlock(\n",
              "        (block): Sequential(\n",
              "          (0): Conv2d(512, 512, kernel_size=(7, 7), stride=(1, 1), padding=(3, 3), groups=512)\n",
              "          (1): Permute()\n",
              "          (2): LayerNorm((512,), eps=1e-06, elementwise_affine=True)\n",
              "          (3): Linear(in_features=512, out_features=2048, bias=True)\n",
              "          (4): GELU(approximate='none')\n",
              "          (5): Linear(in_features=2048, out_features=512, bias=True)\n",
              "          (6): Permute()\n",
              "        )\n",
              "        (stochastic_depth): StochasticDepth(p=0.21428571428571427, mode=row)\n",
              "      )\n",
              "      (10): CNBlock(\n",
              "        (block): Sequential(\n",
              "          (0): Conv2d(512, 512, kernel_size=(7, 7), stride=(1, 1), padding=(3, 3), groups=512)\n",
              "          (1): Permute()\n",
              "          (2): LayerNorm((512,), eps=1e-06, elementwise_affine=True)\n",
              "          (3): Linear(in_features=512, out_features=2048, bias=True)\n",
              "          (4): GELU(approximate='none')\n",
              "          (5): Linear(in_features=2048, out_features=512, bias=True)\n",
              "          (6): Permute()\n",
              "        )\n",
              "        (stochastic_depth): StochasticDepth(p=0.22857142857142856, mode=row)\n",
              "      )\n",
              "      (11): CNBlock(\n",
              "        (block): Sequential(\n",
              "          (0): Conv2d(512, 512, kernel_size=(7, 7), stride=(1, 1), padding=(3, 3), groups=512)\n",
              "          (1): Permute()\n",
              "          (2): LayerNorm((512,), eps=1e-06, elementwise_affine=True)\n",
              "          (3): Linear(in_features=512, out_features=2048, bias=True)\n",
              "          (4): GELU(approximate='none')\n",
              "          (5): Linear(in_features=2048, out_features=512, bias=True)\n",
              "          (6): Permute()\n",
              "        )\n",
              "        (stochastic_depth): StochasticDepth(p=0.24285714285714285, mode=row)\n",
              "      )\n",
              "      (12): CNBlock(\n",
              "        (block): Sequential(\n",
              "          (0): Conv2d(512, 512, kernel_size=(7, 7), stride=(1, 1), padding=(3, 3), groups=512)\n",
              "          (1): Permute()\n",
              "          (2): LayerNorm((512,), eps=1e-06, elementwise_affine=True)\n",
              "          (3): Linear(in_features=512, out_features=2048, bias=True)\n",
              "          (4): GELU(approximate='none')\n",
              "          (5): Linear(in_features=2048, out_features=512, bias=True)\n",
              "          (6): Permute()\n",
              "        )\n",
              "        (stochastic_depth): StochasticDepth(p=0.2571428571428571, mode=row)\n",
              "      )\n",
              "      (13): CNBlock(\n",
              "        (block): Sequential(\n",
              "          (0): Conv2d(512, 512, kernel_size=(7, 7), stride=(1, 1), padding=(3, 3), groups=512)\n",
              "          (1): Permute()\n",
              "          (2): LayerNorm((512,), eps=1e-06, elementwise_affine=True)\n",
              "          (3): Linear(in_features=512, out_features=2048, bias=True)\n",
              "          (4): GELU(approximate='none')\n",
              "          (5): Linear(in_features=2048, out_features=512, bias=True)\n",
              "          (6): Permute()\n",
              "        )\n",
              "        (stochastic_depth): StochasticDepth(p=0.2714285714285714, mode=row)\n",
              "      )\n",
              "      (14): CNBlock(\n",
              "        (block): Sequential(\n",
              "          (0): Conv2d(512, 512, kernel_size=(7, 7), stride=(1, 1), padding=(3, 3), groups=512)\n",
              "          (1): Permute()\n",
              "          (2): LayerNorm((512,), eps=1e-06, elementwise_affine=True)\n",
              "          (3): Linear(in_features=512, out_features=2048, bias=True)\n",
              "          (4): GELU(approximate='none')\n",
              "          (5): Linear(in_features=2048, out_features=512, bias=True)\n",
              "          (6): Permute()\n",
              "        )\n",
              "        (stochastic_depth): StochasticDepth(p=0.2857142857142857, mode=row)\n",
              "      )\n",
              "      (15): CNBlock(\n",
              "        (block): Sequential(\n",
              "          (0): Conv2d(512, 512, kernel_size=(7, 7), stride=(1, 1), padding=(3, 3), groups=512)\n",
              "          (1): Permute()\n",
              "          (2): LayerNorm((512,), eps=1e-06, elementwise_affine=True)\n",
              "          (3): Linear(in_features=512, out_features=2048, bias=True)\n",
              "          (4): GELU(approximate='none')\n",
              "          (5): Linear(in_features=2048, out_features=512, bias=True)\n",
              "          (6): Permute()\n",
              "        )\n",
              "        (stochastic_depth): StochasticDepth(p=0.3, mode=row)\n",
              "      )\n",
              "      (16): CNBlock(\n",
              "        (block): Sequential(\n",
              "          (0): Conv2d(512, 512, kernel_size=(7, 7), stride=(1, 1), padding=(3, 3), groups=512)\n",
              "          (1): Permute()\n",
              "          (2): LayerNorm((512,), eps=1e-06, elementwise_affine=True)\n",
              "          (3): Linear(in_features=512, out_features=2048, bias=True)\n",
              "          (4): GELU(approximate='none')\n",
              "          (5): Linear(in_features=2048, out_features=512, bias=True)\n",
              "          (6): Permute()\n",
              "        )\n",
              "        (stochastic_depth): StochasticDepth(p=0.3142857142857143, mode=row)\n",
              "      )\n",
              "      (17): CNBlock(\n",
              "        (block): Sequential(\n",
              "          (0): Conv2d(512, 512, kernel_size=(7, 7), stride=(1, 1), padding=(3, 3), groups=512)\n",
              "          (1): Permute()\n",
              "          (2): LayerNorm((512,), eps=1e-06, elementwise_affine=True)\n",
              "          (3): Linear(in_features=512, out_features=2048, bias=True)\n",
              "          (4): GELU(approximate='none')\n",
              "          (5): Linear(in_features=2048, out_features=512, bias=True)\n",
              "          (6): Permute()\n",
              "        )\n",
              "        (stochastic_depth): StochasticDepth(p=0.32857142857142857, mode=row)\n",
              "      )\n",
              "      (18): CNBlock(\n",
              "        (block): Sequential(\n",
              "          (0): Conv2d(512, 512, kernel_size=(7, 7), stride=(1, 1), padding=(3, 3), groups=512)\n",
              "          (1): Permute()\n",
              "          (2): LayerNorm((512,), eps=1e-06, elementwise_affine=True)\n",
              "          (3): Linear(in_features=512, out_features=2048, bias=True)\n",
              "          (4): GELU(approximate='none')\n",
              "          (5): Linear(in_features=2048, out_features=512, bias=True)\n",
              "          (6): Permute()\n",
              "        )\n",
              "        (stochastic_depth): StochasticDepth(p=0.34285714285714286, mode=row)\n",
              "      )\n",
              "      (19): CNBlock(\n",
              "        (block): Sequential(\n",
              "          (0): Conv2d(512, 512, kernel_size=(7, 7), stride=(1, 1), padding=(3, 3), groups=512)\n",
              "          (1): Permute()\n",
              "          (2): LayerNorm((512,), eps=1e-06, elementwise_affine=True)\n",
              "          (3): Linear(in_features=512, out_features=2048, bias=True)\n",
              "          (4): GELU(approximate='none')\n",
              "          (5): Linear(in_features=2048, out_features=512, bias=True)\n",
              "          (6): Permute()\n",
              "        )\n",
              "        (stochastic_depth): StochasticDepth(p=0.35714285714285715, mode=row)\n",
              "      )\n",
              "      (20): CNBlock(\n",
              "        (block): Sequential(\n",
              "          (0): Conv2d(512, 512, kernel_size=(7, 7), stride=(1, 1), padding=(3, 3), groups=512)\n",
              "          (1): Permute()\n",
              "          (2): LayerNorm((512,), eps=1e-06, elementwise_affine=True)\n",
              "          (3): Linear(in_features=512, out_features=2048, bias=True)\n",
              "          (4): GELU(approximate='none')\n",
              "          (5): Linear(in_features=2048, out_features=512, bias=True)\n",
              "          (6): Permute()\n",
              "        )\n",
              "        (stochastic_depth): StochasticDepth(p=0.37142857142857144, mode=row)\n",
              "      )\n",
              "      (21): CNBlock(\n",
              "        (block): Sequential(\n",
              "          (0): Conv2d(512, 512, kernel_size=(7, 7), stride=(1, 1), padding=(3, 3), groups=512)\n",
              "          (1): Permute()\n",
              "          (2): LayerNorm((512,), eps=1e-06, elementwise_affine=True)\n",
              "          (3): Linear(in_features=512, out_features=2048, bias=True)\n",
              "          (4): GELU(approximate='none')\n",
              "          (5): Linear(in_features=2048, out_features=512, bias=True)\n",
              "          (6): Permute()\n",
              "        )\n",
              "        (stochastic_depth): StochasticDepth(p=0.38571428571428573, mode=row)\n",
              "      )\n",
              "      (22): CNBlock(\n",
              "        (block): Sequential(\n",
              "          (0): Conv2d(512, 512, kernel_size=(7, 7), stride=(1, 1), padding=(3, 3), groups=512)\n",
              "          (1): Permute()\n",
              "          (2): LayerNorm((512,), eps=1e-06, elementwise_affine=True)\n",
              "          (3): Linear(in_features=512, out_features=2048, bias=True)\n",
              "          (4): GELU(approximate='none')\n",
              "          (5): Linear(in_features=2048, out_features=512, bias=True)\n",
              "          (6): Permute()\n",
              "        )\n",
              "        (stochastic_depth): StochasticDepth(p=0.4, mode=row)\n",
              "      )\n",
              "      (23): CNBlock(\n",
              "        (block): Sequential(\n",
              "          (0): Conv2d(512, 512, kernel_size=(7, 7), stride=(1, 1), padding=(3, 3), groups=512)\n",
              "          (1): Permute()\n",
              "          (2): LayerNorm((512,), eps=1e-06, elementwise_affine=True)\n",
              "          (3): Linear(in_features=512, out_features=2048, bias=True)\n",
              "          (4): GELU(approximate='none')\n",
              "          (5): Linear(in_features=2048, out_features=512, bias=True)\n",
              "          (6): Permute()\n",
              "        )\n",
              "        (stochastic_depth): StochasticDepth(p=0.4142857142857143, mode=row)\n",
              "      )\n",
              "      (24): CNBlock(\n",
              "        (block): Sequential(\n",
              "          (0): Conv2d(512, 512, kernel_size=(7, 7), stride=(1, 1), padding=(3, 3), groups=512)\n",
              "          (1): Permute()\n",
              "          (2): LayerNorm((512,), eps=1e-06, elementwise_affine=True)\n",
              "          (3): Linear(in_features=512, out_features=2048, bias=True)\n",
              "          (4): GELU(approximate='none')\n",
              "          (5): Linear(in_features=2048, out_features=512, bias=True)\n",
              "          (6): Permute()\n",
              "        )\n",
              "        (stochastic_depth): StochasticDepth(p=0.42857142857142855, mode=row)\n",
              "      )\n",
              "      (25): CNBlock(\n",
              "        (block): Sequential(\n",
              "          (0): Conv2d(512, 512, kernel_size=(7, 7), stride=(1, 1), padding=(3, 3), groups=512)\n",
              "          (1): Permute()\n",
              "          (2): LayerNorm((512,), eps=1e-06, elementwise_affine=True)\n",
              "          (3): Linear(in_features=512, out_features=2048, bias=True)\n",
              "          (4): GELU(approximate='none')\n",
              "          (5): Linear(in_features=2048, out_features=512, bias=True)\n",
              "          (6): Permute()\n",
              "        )\n",
              "        (stochastic_depth): StochasticDepth(p=0.44285714285714284, mode=row)\n",
              "      )\n",
              "      (26): CNBlock(\n",
              "        (block): Sequential(\n",
              "          (0): Conv2d(512, 512, kernel_size=(7, 7), stride=(1, 1), padding=(3, 3), groups=512)\n",
              "          (1): Permute()\n",
              "          (2): LayerNorm((512,), eps=1e-06, elementwise_affine=True)\n",
              "          (3): Linear(in_features=512, out_features=2048, bias=True)\n",
              "          (4): GELU(approximate='none')\n",
              "          (5): Linear(in_features=2048, out_features=512, bias=True)\n",
              "          (6): Permute()\n",
              "        )\n",
              "        (stochastic_depth): StochasticDepth(p=0.45714285714285713, mode=row)\n",
              "      )\n",
              "    )\n",
              "    (6): Sequential(\n",
              "      (0): LayerNorm2d((512,), eps=1e-06, elementwise_affine=True)\n",
              "      (1): Conv2d(512, 1024, kernel_size=(2, 2), stride=(2, 2))\n",
              "    )\n",
              "    (7): Sequential(\n",
              "      (0): CNBlock(\n",
              "        (block): Sequential(\n",
              "          (0): Conv2d(1024, 1024, kernel_size=(7, 7), stride=(1, 1), padding=(3, 3), groups=1024)\n",
              "          (1): Permute()\n",
              "          (2): LayerNorm((1024,), eps=1e-06, elementwise_affine=True)\n",
              "          (3): Linear(in_features=1024, out_features=4096, bias=True)\n",
              "          (4): GELU(approximate='none')\n",
              "          (5): Linear(in_features=4096, out_features=1024, bias=True)\n",
              "          (6): Permute()\n",
              "        )\n",
              "        (stochastic_depth): StochasticDepth(p=0.4714285714285714, mode=row)\n",
              "      )\n",
              "      (1): CNBlock(\n",
              "        (block): Sequential(\n",
              "          (0): Conv2d(1024, 1024, kernel_size=(7, 7), stride=(1, 1), padding=(3, 3), groups=1024)\n",
              "          (1): Permute()\n",
              "          (2): LayerNorm((1024,), eps=1e-06, elementwise_affine=True)\n",
              "          (3): Linear(in_features=1024, out_features=4096, bias=True)\n",
              "          (4): GELU(approximate='none')\n",
              "          (5): Linear(in_features=4096, out_features=1024, bias=True)\n",
              "          (6): Permute()\n",
              "        )\n",
              "        (stochastic_depth): StochasticDepth(p=0.4857142857142857, mode=row)\n",
              "      )\n",
              "      (2): CNBlock(\n",
              "        (block): Sequential(\n",
              "          (0): Conv2d(1024, 1024, kernel_size=(7, 7), stride=(1, 1), padding=(3, 3), groups=1024)\n",
              "          (1): Permute()\n",
              "          (2): LayerNorm((1024,), eps=1e-06, elementwise_affine=True)\n",
              "          (3): Linear(in_features=1024, out_features=4096, bias=True)\n",
              "          (4): GELU(approximate='none')\n",
              "          (5): Linear(in_features=4096, out_features=1024, bias=True)\n",
              "          (6): Permute()\n",
              "        )\n",
              "        (stochastic_depth): StochasticDepth(p=0.5, mode=row)\n",
              "      )\n",
              "    )\n",
              "  )\n",
              "  (avgpool): AdaptiveAvgPool2d(output_size=1)\n",
              "  (classifier): Sequential(\n",
              "    (0): LayerNorm2d((1024,), eps=1e-06, elementwise_affine=True)\n",
              "    (1): Flatten(start_dim=1, end_dim=-1)\n",
              "    (2): Linear(in_features=1024, out_features=1000, bias=True)\n",
              "  )\n",
              ")"
            ]
          },
          "execution_count": 9,
          "metadata": {},
          "output_type": "execute_result"
        }
      ],
      "source": [
        "# pytorch のライブラリーを利用して、事前学習の重みをロード済みのモデルインスタンスを作成する。\n",
        "# なお、pretrained=True とすると事前学習モデルとなり、Falseとするとモデルのみが作成される。\n",
        "net = torchvision.models.convnext_base(pretrained=True)\n",
        "net"
      ]
    },
    {
      "cell_type": "code",
      "execution_count": null,
      "metadata": {
        "id": "-nXTKZ9GBaR6"
      },
      "outputs": [],
      "source": [
        "# 分類器部分を cifar10 用に付け替える。\n",
        "net.classifier[2] = nn.Linear(1024 ,out_features=10)"
      ]
    },
    {
      "cell_type": "code",
      "execution_count": null,
      "metadata": {
        "id": "qhZ-_MeyY5qo"
      },
      "outputs": [],
      "source": [
        "device = torch.device(\"cuda\" if torch.cuda.is_available() else \"cpu\")"
      ]
    },
    {
      "cell_type": "code",
      "execution_count": null,
      "metadata": {
        "id": "jAjzQUSkY7qe"
      },
      "outputs": [],
      "source": [
        "net = net.to(device)\n",
        "\n",
        "criterion = nn.CrossEntropyLoss()\n",
        "optimizer = optim.SGD(net.parameters(), lr=0.001, momentum=0.9)"
      ]
    },
    {
      "cell_type": "code",
      "execution_count": null,
      "metadata": {
        "colab": {
          "base_uri": "https://localhost:8080/"
        },
        "id": "imZUi86hZAm2",
        "outputId": "8ad38b6f-99ce-4fed-ae0e-6b87b2120960"
      },
      "outputs": [
        {
          "name": "stderr",
          "output_type": "stream",
          "text": [
            "100%|██████████| 50/50 [22:16<00:00, 26.72s/it]"
          ]
        },
        {
          "name": "stdout",
          "output_type": "stream",
          "text": [
            "Finished Training\n"
          ]
        },
        {
          "name": "stderr",
          "output_type": "stream",
          "text": [
            "\n"
          ]
        }
      ],
      "source": [
        "from tqdm import tqdm\n",
        "\n",
        "# 学習エポックの設定\n",
        "epoch_num = 50\n",
        "\n",
        "# 学習ループの設定\n",
        "for epoch in tqdm(range(epoch_num)):  # エポックの進行度を表示するためにtqdmを使用\n",
        "\n",
        "    running_loss = 0.0\n",
        "    for i, data in enumerate(trainloader, 0): # leave=Falseで内部のプログレスバーが完了後に消えるように設定\n",
        "        inputs, labels = data\n",
        "        optimizer.zero_grad()\n",
        "\n",
        "        # テンソルをGPUに移動\n",
        "        inputs = inputs.to(device)\n",
        "        labels = labels.to(device)\n",
        "\n",
        "        # forward + backward + optimize\n",
        "        outputs = net(inputs)\n",
        "        loss = criterion(outputs, labels)\n",
        "        loss.backward()\n",
        "        optimizer.step()\n",
        "\n",
        "        # 結果表示\n",
        "        running_loss += loss.item()\n",
        "        if i % 2000 == 1999:\n",
        "            print('[%d, %5d] loss: %.3f' %\n",
        "                  (epoch + 1, i + 1, running_loss / 2000))\n",
        "            running_loss = 0.0\n",
        "print('Finished Training')\n"
      ]
    },
    {
      "cell_type": "markdown",
      "metadata": {
        "id": "crkboDruZIln"
      },
      "source": [
        "##結果のモデルを保存する\n"
      ]
    },
    {
      "cell_type": "code",
      "execution_count": null,
      "metadata": {
        "id": "hFWDKV3vZIlo"
      },
      "outputs": [],
      "source": [
        "vgg_pre_weight_path = './vgg_pre_weight_path.pth'\n",
        "torch.save(net.state_dict(), vgg_pre_weight_path)"
      ]
    },
    {
      "cell_type": "markdown",
      "metadata": {
        "id": "q0iBz9ClZIlo"
      },
      "source": [
        "##結果を検証用データで確認する"
      ]
    },
    {
      "cell_type": "code",
      "execution_count": null,
      "metadata": {
        "colab": {
          "base_uri": "https://localhost:8080/"
        },
        "id": "qKDO3IfFZIlp",
        "outputId": "25be2b2a-f42d-444f-859d-4f6dddd790bf"
      },
      "outputs": [
        {
          "name": "stderr",
          "output_type": "stream",
          "text": [
            "<ipython-input-15-3d57d66b2b7d>:1: FutureWarning: You are using `torch.load` with `weights_only=False` (the current default value), which uses the default pickle module implicitly. It is possible to construct malicious pickle data which will execute arbitrary code during unpickling (See https://github.com/pytorch/pytorch/blob/main/SECURITY.md#untrusted-models for more details). In a future release, the default value for `weights_only` will be flipped to `True`. This limits the functions that could be executed during unpickling. Arbitrary objects will no longer be allowed to be loaded via this mode unless they are explicitly allowlisted by the user via `torch.serialization.add_safe_globals`. We recommend you start setting `weights_only=True` for any use case where you don't have full control of the loaded file. Please open an issue on GitHub for any issues related to this experimental feature.\n",
            "  net.load_state_dict(torch.load(vgg_pre_weight_path))\n"
          ]
        },
        {
          "data": {
            "text/plain": [
              "<All keys matched successfully>"
            ]
          },
          "execution_count": 15,
          "metadata": {},
          "output_type": "execute_result"
        }
      ],
      "source": [
        "net.load_state_dict(torch.load(vgg_pre_weight_path))"
      ]
    },
    {
      "cell_type": "code",
      "execution_count": null,
      "metadata": {
        "colab": {
          "base_uri": "https://localhost:8080/"
        },
        "id": "Qgo9ap9_ZIlp",
        "outputId": "b0ff83bb-52a7-42ac-d36e-e35ee9c6d7e8"
      },
      "outputs": [
        {
          "name": "stdout",
          "output_type": "stream",
          "text": [
            "正解率 : 87 %\n"
          ]
        }
      ],
      "source": [
        "correct = 0\n",
        "total = 0\n",
        "# 勾配を記憶せず（学習せずに）に計算を行う\n",
        "with torch.no_grad():\n",
        "    for data in valloader:\n",
        "        images, labels = data\n",
        "\n",
        "        images = images.to(device)\n",
        "        labels = labels.to(device)\n",
        "\n",
        "        outputs = net(images)\n",
        "        _, predicted = torch.max(outputs.data, 1)\n",
        "        total += labels.size(0)\n",
        "        correct += (predicted == labels).sum().item()\n",
        "print('正解率 : %d %%' % (100 * correct / total))"
      ]
    },
    {
      "cell_type": "markdown",
      "metadata": {},
      "source": [
        "# 提出形式"
      ]
    },
    {
      "cell_type": "markdown",
      "metadata": {
        "id": "Hs_p7w3NpSR1"
      },
      "source": [
        "## テスト用データセットのダウンロード"
      ]
    },
    {
      "cell_type": "code",
      "execution_count": null,
      "metadata": {
        "colab": {
          "base_uri": "https://localhost:8080/"
        },
        "id": "vK1O3TCDz0NG",
        "outputId": "7900d13e-cd8a-4b2b-d3c9-54c33e93632d"
      },
      "outputs": [
        {
          "name": "stdout",
          "output_type": "stream",
          "text": [
            "--2025-01-29 06:49:45--  https://drive.google.com/uc?export=download&id=1-T-luRcFf14qV_rR66B3groh8imA-8lo\n",
            "Resolving drive.google.com (drive.google.com)... 142.250.107.113, 142.250.107.100, 142.250.107.139, ...\n",
            "Connecting to drive.google.com (drive.google.com)|142.250.107.113|:443... connected.\n",
            "HTTP request sent, awaiting response... 303 See Other\n",
            "Location: https://drive.usercontent.google.com/download?id=1-T-luRcFf14qV_rR66B3groh8imA-8lo&export=download [following]\n",
            "--2025-01-29 06:49:45--  https://drive.usercontent.google.com/download?id=1-T-luRcFf14qV_rR66B3groh8imA-8lo&export=download\n",
            "Resolving drive.usercontent.google.com (drive.usercontent.google.com)... 74.125.197.132, 2607:f8b0:400e:c08::84\n",
            "Connecting to drive.usercontent.google.com (drive.usercontent.google.com)|74.125.197.132|:443... connected.\n",
            "HTTP request sent, awaiting response... 200 OK\n",
            "Length: 6259881 (6.0M) [application/octet-stream]\n",
            "Saving to: ‘test_data.pickle’\n",
            "\n",
            "test_data.pickle    100%[===================>]   5.97M  --.-KB/s    in 0.05s   \n",
            "\n",
            "2025-01-29 06:49:49 (114 MB/s) - ‘test_data.pickle’ saved [6259881/6259881]\n",
            "\n"
          ]
        }
      ],
      "source": [
        "!wget 'https://drive.google.com/uc?export=download&id=1-T-luRcFf14qV_rR66B3groh8imA-8lo' -O test_data.pickle"
      ]
    },
    {
      "cell_type": "code",
      "execution_count": null,
      "metadata": {
        "id": "-9nvdZN6IpqI"
      },
      "outputs": [],
      "source": [
        "transform = transforms.Compose(\n",
        "    [transforms.ToTensor(),\n",
        "     transforms.Normalize((0.5, 0.5, 0.5), (0.5, 0.5, 0.5))])\n",
        "\n",
        "with open('test_data.pickle', \"rb\") as fp:\n",
        "  test = pickle.load(fp, encoding=\"latin-1\")\n",
        "\n",
        "for i in range(len(test['data'])):\n",
        "  data = test[\"data\"][i]\n",
        "  data = data.reshape(3, 32, 32)\n",
        "  data = np.swapaxes(data, 0, 2)\n",
        "  data = np.swapaxes(data, 0, 1)\n",
        "  img = transform(data)\n",
        "  img = torch.unsqueeze(img, 0)\n",
        "  if i==0:\n",
        "    images=img\n",
        "  else:\n",
        "    images = torch.cat([images, img])"
      ]
    },
    {
      "cell_type": "code",
      "execution_count": null,
      "metadata": {
        "colab": {
          "base_uri": "https://localhost:8080/"
        },
        "id": "pZd3xxzUqUKv",
        "outputId": "c0962113-9853-44af-fc96-572504a0c8d2"
      },
      "outputs": [
        {
          "name": "stdout",
          "output_type": "stream",
          "text": [
            "tensor([1, 9, 9,  ..., 2, 8, 0], device='cuda:0')\n"
          ]
        }
      ],
      "source": [
        "device = torch.device('cuda' if torch.cuda.is_available() else 'cpu')\n",
        "net.eval()\n",
        "images = images.to(device)\n",
        "with torch.no_grad():\n",
        "    outputs = net(images)\n",
        "    _, predictions = torch.max(outputs, 1)\n",
        "print(predictions)"
      ]
    },
    {
      "cell_type": "code",
      "execution_count": null,
      "metadata": {
        "colab": {
          "base_uri": "https://localhost:8080/",
          "height": 424
        },
        "id": "eL8kUfB1NaxF",
        "outputId": "0e33873e-473f-47e4-9156-046b990740c9"
      },
      "outputs": [
        {
          "data": {
            "application/vnd.google.colaboratory.intrinsic+json": {
              "summary": "{\n  \"name\": \"y_pred\",\n  \"rows\": 2000,\n  \"fields\": [\n    {\n      \"column\": \"number\",\n      \"properties\": {\n        \"dtype\": \"number\",\n        \"std\": 2,\n        \"min\": 0,\n        \"max\": 9,\n        \"num_unique_values\": 10,\n        \"samples\": [\n          7,\n          9,\n          5\n        ],\n        \"semantic_type\": \"\",\n        \"description\": \"\"\n      }\n    }\n  ]\n}",
              "type": "dataframe",
              "variable_name": "y_pred"
            },
            "text/html": [
              "\n",
              "  <div id=\"df-ab4c6850-e0e1-4d94-8b25-a3a5fc93e809\" class=\"colab-df-container\">\n",
              "    <div>\n",
              "<style scoped>\n",
              "    .dataframe tbody tr th:only-of-type {\n",
              "        vertical-align: middle;\n",
              "    }\n",
              "\n",
              "    .dataframe tbody tr th {\n",
              "        vertical-align: top;\n",
              "    }\n",
              "\n",
              "    .dataframe thead th {\n",
              "        text-align: right;\n",
              "    }\n",
              "</style>\n",
              "<table border=\"1\" class=\"dataframe\">\n",
              "  <thead>\n",
              "    <tr style=\"text-align: right;\">\n",
              "      <th></th>\n",
              "      <th>number</th>\n",
              "    </tr>\n",
              "  </thead>\n",
              "  <tbody>\n",
              "    <tr>\n",
              "      <th>0</th>\n",
              "      <td>1</td>\n",
              "    </tr>\n",
              "    <tr>\n",
              "      <th>1</th>\n",
              "      <td>9</td>\n",
              "    </tr>\n",
              "    <tr>\n",
              "      <th>2</th>\n",
              "      <td>9</td>\n",
              "    </tr>\n",
              "    <tr>\n",
              "      <th>3</th>\n",
              "      <td>4</td>\n",
              "    </tr>\n",
              "    <tr>\n",
              "      <th>4</th>\n",
              "      <td>2</td>\n",
              "    </tr>\n",
              "    <tr>\n",
              "      <th>...</th>\n",
              "      <td>...</td>\n",
              "    </tr>\n",
              "    <tr>\n",
              "      <th>1995</th>\n",
              "      <td>7</td>\n",
              "    </tr>\n",
              "    <tr>\n",
              "      <th>1996</th>\n",
              "      <td>8</td>\n",
              "    </tr>\n",
              "    <tr>\n",
              "      <th>1997</th>\n",
              "      <td>2</td>\n",
              "    </tr>\n",
              "    <tr>\n",
              "      <th>1998</th>\n",
              "      <td>8</td>\n",
              "    </tr>\n",
              "    <tr>\n",
              "      <th>1999</th>\n",
              "      <td>0</td>\n",
              "    </tr>\n",
              "  </tbody>\n",
              "</table>\n",
              "<p>2000 rows × 1 columns</p>\n",
              "</div>\n",
              "    <div class=\"colab-df-buttons\">\n",
              "\n",
              "  <div class=\"colab-df-container\">\n",
              "    <button class=\"colab-df-convert\" onclick=\"convertToInteractive('df-ab4c6850-e0e1-4d94-8b25-a3a5fc93e809')\"\n",
              "            title=\"Convert this dataframe to an interactive table.\"\n",
              "            style=\"display:none;\">\n",
              "\n",
              "  <svg xmlns=\"http://www.w3.org/2000/svg\" height=\"24px\" viewBox=\"0 -960 960 960\">\n",
              "    <path d=\"M120-120v-720h720v720H120Zm60-500h600v-160H180v160Zm220 220h160v-160H400v160Zm0 220h160v-160H400v160ZM180-400h160v-160H180v160Zm440 0h160v-160H620v160ZM180-180h160v-160H180v160Zm440 0h160v-160H620v160Z\"/>\n",
              "  </svg>\n",
              "    </button>\n",
              "\n",
              "  <style>\n",
              "    .colab-df-container {\n",
              "      display:flex;\n",
              "      gap: 12px;\n",
              "    }\n",
              "\n",
              "    .colab-df-convert {\n",
              "      background-color: #E8F0FE;\n",
              "      border: none;\n",
              "      border-radius: 50%;\n",
              "      cursor: pointer;\n",
              "      display: none;\n",
              "      fill: #1967D2;\n",
              "      height: 32px;\n",
              "      padding: 0 0 0 0;\n",
              "      width: 32px;\n",
              "    }\n",
              "\n",
              "    .colab-df-convert:hover {\n",
              "      background-color: #E2EBFA;\n",
              "      box-shadow: 0px 1px 2px rgba(60, 64, 67, 0.3), 0px 1px 3px 1px rgba(60, 64, 67, 0.15);\n",
              "      fill: #174EA6;\n",
              "    }\n",
              "\n",
              "    .colab-df-buttons div {\n",
              "      margin-bottom: 4px;\n",
              "    }\n",
              "\n",
              "    [theme=dark] .colab-df-convert {\n",
              "      background-color: #3B4455;\n",
              "      fill: #D2E3FC;\n",
              "    }\n",
              "\n",
              "    [theme=dark] .colab-df-convert:hover {\n",
              "      background-color: #434B5C;\n",
              "      box-shadow: 0px 1px 3px 1px rgba(0, 0, 0, 0.15);\n",
              "      filter: drop-shadow(0px 1px 2px rgba(0, 0, 0, 0.3));\n",
              "      fill: #FFFFFF;\n",
              "    }\n",
              "  </style>\n",
              "\n",
              "    <script>\n",
              "      const buttonEl =\n",
              "        document.querySelector('#df-ab4c6850-e0e1-4d94-8b25-a3a5fc93e809 button.colab-df-convert');\n",
              "      buttonEl.style.display =\n",
              "        google.colab.kernel.accessAllowed ? 'block' : 'none';\n",
              "\n",
              "      async function convertToInteractive(key) {\n",
              "        const element = document.querySelector('#df-ab4c6850-e0e1-4d94-8b25-a3a5fc93e809');\n",
              "        const dataTable =\n",
              "          await google.colab.kernel.invokeFunction('convertToInteractive',\n",
              "                                                    [key], {});\n",
              "        if (!dataTable) return;\n",
              "\n",
              "        const docLinkHtml = 'Like what you see? Visit the ' +\n",
              "          '<a target=\"_blank\" href=https://colab.research.google.com/notebooks/data_table.ipynb>data table notebook</a>'\n",
              "          + ' to learn more about interactive tables.';\n",
              "        element.innerHTML = '';\n",
              "        dataTable['output_type'] = 'display_data';\n",
              "        await google.colab.output.renderOutput(dataTable, element);\n",
              "        const docLink = document.createElement('div');\n",
              "        docLink.innerHTML = docLinkHtml;\n",
              "        element.appendChild(docLink);\n",
              "      }\n",
              "    </script>\n",
              "  </div>\n",
              "\n",
              "\n",
              "<div id=\"df-82031f16-9b9f-47bc-8778-a9e8ab3358e5\">\n",
              "  <button class=\"colab-df-quickchart\" onclick=\"quickchart('df-82031f16-9b9f-47bc-8778-a9e8ab3358e5')\"\n",
              "            title=\"Suggest charts\"\n",
              "            style=\"display:none;\">\n",
              "\n",
              "<svg xmlns=\"http://www.w3.org/2000/svg\" height=\"24px\"viewBox=\"0 0 24 24\"\n",
              "     width=\"24px\">\n",
              "    <g>\n",
              "        <path d=\"M19 3H5c-1.1 0-2 .9-2 2v14c0 1.1.9 2 2 2h14c1.1 0 2-.9 2-2V5c0-1.1-.9-2-2-2zM9 17H7v-7h2v7zm4 0h-2V7h2v10zm4 0h-2v-4h2v4z\"/>\n",
              "    </g>\n",
              "</svg>\n",
              "  </button>\n",
              "\n",
              "<style>\n",
              "  .colab-df-quickchart {\n",
              "      --bg-color: #E8F0FE;\n",
              "      --fill-color: #1967D2;\n",
              "      --hover-bg-color: #E2EBFA;\n",
              "      --hover-fill-color: #174EA6;\n",
              "      --disabled-fill-color: #AAA;\n",
              "      --disabled-bg-color: #DDD;\n",
              "  }\n",
              "\n",
              "  [theme=dark] .colab-df-quickchart {\n",
              "      --bg-color: #3B4455;\n",
              "      --fill-color: #D2E3FC;\n",
              "      --hover-bg-color: #434B5C;\n",
              "      --hover-fill-color: #FFFFFF;\n",
              "      --disabled-bg-color: #3B4455;\n",
              "      --disabled-fill-color: #666;\n",
              "  }\n",
              "\n",
              "  .colab-df-quickchart {\n",
              "    background-color: var(--bg-color);\n",
              "    border: none;\n",
              "    border-radius: 50%;\n",
              "    cursor: pointer;\n",
              "    display: none;\n",
              "    fill: var(--fill-color);\n",
              "    height: 32px;\n",
              "    padding: 0;\n",
              "    width: 32px;\n",
              "  }\n",
              "\n",
              "  .colab-df-quickchart:hover {\n",
              "    background-color: var(--hover-bg-color);\n",
              "    box-shadow: 0 1px 2px rgba(60, 64, 67, 0.3), 0 1px 3px 1px rgba(60, 64, 67, 0.15);\n",
              "    fill: var(--button-hover-fill-color);\n",
              "  }\n",
              "\n",
              "  .colab-df-quickchart-complete:disabled,\n",
              "  .colab-df-quickchart-complete:disabled:hover {\n",
              "    background-color: var(--disabled-bg-color);\n",
              "    fill: var(--disabled-fill-color);\n",
              "    box-shadow: none;\n",
              "  }\n",
              "\n",
              "  .colab-df-spinner {\n",
              "    border: 2px solid var(--fill-color);\n",
              "    border-color: transparent;\n",
              "    border-bottom-color: var(--fill-color);\n",
              "    animation:\n",
              "      spin 1s steps(1) infinite;\n",
              "  }\n",
              "\n",
              "  @keyframes spin {\n",
              "    0% {\n",
              "      border-color: transparent;\n",
              "      border-bottom-color: var(--fill-color);\n",
              "      border-left-color: var(--fill-color);\n",
              "    }\n",
              "    20% {\n",
              "      border-color: transparent;\n",
              "      border-left-color: var(--fill-color);\n",
              "      border-top-color: var(--fill-color);\n",
              "    }\n",
              "    30% {\n",
              "      border-color: transparent;\n",
              "      border-left-color: var(--fill-color);\n",
              "      border-top-color: var(--fill-color);\n",
              "      border-right-color: var(--fill-color);\n",
              "    }\n",
              "    40% {\n",
              "      border-color: transparent;\n",
              "      border-right-color: var(--fill-color);\n",
              "      border-top-color: var(--fill-color);\n",
              "    }\n",
              "    60% {\n",
              "      border-color: transparent;\n",
              "      border-right-color: var(--fill-color);\n",
              "    }\n",
              "    80% {\n",
              "      border-color: transparent;\n",
              "      border-right-color: var(--fill-color);\n",
              "      border-bottom-color: var(--fill-color);\n",
              "    }\n",
              "    90% {\n",
              "      border-color: transparent;\n",
              "      border-bottom-color: var(--fill-color);\n",
              "    }\n",
              "  }\n",
              "</style>\n",
              "\n",
              "  <script>\n",
              "    async function quickchart(key) {\n",
              "      const quickchartButtonEl =\n",
              "        document.querySelector('#' + key + ' button');\n",
              "      quickchartButtonEl.disabled = true;  // To prevent multiple clicks.\n",
              "      quickchartButtonEl.classList.add('colab-df-spinner');\n",
              "      try {\n",
              "        const charts = await google.colab.kernel.invokeFunction(\n",
              "            'suggestCharts', [key], {});\n",
              "      } catch (error) {\n",
              "        console.error('Error during call to suggestCharts:', error);\n",
              "      }\n",
              "      quickchartButtonEl.classList.remove('colab-df-spinner');\n",
              "      quickchartButtonEl.classList.add('colab-df-quickchart-complete');\n",
              "    }\n",
              "    (() => {\n",
              "      let quickchartButtonEl =\n",
              "        document.querySelector('#df-82031f16-9b9f-47bc-8778-a9e8ab3358e5 button');\n",
              "      quickchartButtonEl.style.display =\n",
              "        google.colab.kernel.accessAllowed ? 'block' : 'none';\n",
              "    })();\n",
              "  </script>\n",
              "</div>\n",
              "\n",
              "  <div id=\"id_34fffda9-4559-4e9a-9433-55a3734de3c7\">\n",
              "    <style>\n",
              "      .colab-df-generate {\n",
              "        background-color: #E8F0FE;\n",
              "        border: none;\n",
              "        border-radius: 50%;\n",
              "        cursor: pointer;\n",
              "        display: none;\n",
              "        fill: #1967D2;\n",
              "        height: 32px;\n",
              "        padding: 0 0 0 0;\n",
              "        width: 32px;\n",
              "      }\n",
              "\n",
              "      .colab-df-generate:hover {\n",
              "        background-color: #E2EBFA;\n",
              "        box-shadow: 0px 1px 2px rgba(60, 64, 67, 0.3), 0px 1px 3px 1px rgba(60, 64, 67, 0.15);\n",
              "        fill: #174EA6;\n",
              "      }\n",
              "\n",
              "      [theme=dark] .colab-df-generate {\n",
              "        background-color: #3B4455;\n",
              "        fill: #D2E3FC;\n",
              "      }\n",
              "\n",
              "      [theme=dark] .colab-df-generate:hover {\n",
              "        background-color: #434B5C;\n",
              "        box-shadow: 0px 1px 3px 1px rgba(0, 0, 0, 0.15);\n",
              "        filter: drop-shadow(0px 1px 2px rgba(0, 0, 0, 0.3));\n",
              "        fill: #FFFFFF;\n",
              "      }\n",
              "    </style>\n",
              "    <button class=\"colab-df-generate\" onclick=\"generateWithVariable('y_pred')\"\n",
              "            title=\"Generate code using this dataframe.\"\n",
              "            style=\"display:none;\">\n",
              "\n",
              "  <svg xmlns=\"http://www.w3.org/2000/svg\" height=\"24px\"viewBox=\"0 0 24 24\"\n",
              "       width=\"24px\">\n",
              "    <path d=\"M7,19H8.4L18.45,9,17,7.55,7,17.6ZM5,21V16.75L18.45,3.32a2,2,0,0,1,2.83,0l1.4,1.43a1.91,1.91,0,0,1,.58,1.4,1.91,1.91,0,0,1-.58,1.4L9.25,21ZM18.45,9,17,7.55Zm-12,3A5.31,5.31,0,0,0,4.9,8.1,5.31,5.31,0,0,0,1,6.5,5.31,5.31,0,0,0,4.9,4.9,5.31,5.31,0,0,0,6.5,1,5.31,5.31,0,0,0,8.1,4.9,5.31,5.31,0,0,0,12,6.5,5.46,5.46,0,0,0,6.5,12Z\"/>\n",
              "  </svg>\n",
              "    </button>\n",
              "    <script>\n",
              "      (() => {\n",
              "      const buttonEl =\n",
              "        document.querySelector('#id_34fffda9-4559-4e9a-9433-55a3734de3c7 button.colab-df-generate');\n",
              "      buttonEl.style.display =\n",
              "        google.colab.kernel.accessAllowed ? 'block' : 'none';\n",
              "\n",
              "      buttonEl.onclick = () => {\n",
              "        google.colab.notebook.generateWithVariable('y_pred');\n",
              "      }\n",
              "      })();\n",
              "    </script>\n",
              "  </div>\n",
              "\n",
              "    </div>\n",
              "  </div>\n"
            ],
            "text/plain": [
              "      number\n",
              "0          1\n",
              "1          9\n",
              "2          9\n",
              "3          4\n",
              "4          2\n",
              "...      ...\n",
              "1995       7\n",
              "1996       8\n",
              "1997       2\n",
              "1998       8\n",
              "1999       0\n",
              "\n",
              "[2000 rows x 1 columns]"
            ]
          },
          "execution_count": 21,
          "metadata": {},
          "output_type": "execute_result"
        }
      ],
      "source": [
        "# pandasのDataFrame形式に変換し、CSV出力する\n",
        "import pandas as pd\n",
        "y_pred = pd.DataFrame(predictions.cpu(), columns=['number'])\n",
        "y_pred.to_csv('y_pred.csv')\n",
        "y_pred"
      ]
    },
    {
      "cell_type": "code",
      "execution_count": null,
      "metadata": {
        "colab": {
          "base_uri": "https://localhost:8080/"
        },
        "id": "uGyLIzaOIty_",
        "outputId": "d4b321de-5570-4db4-ecfb-7f5a3a704201"
      },
      "outputs": [
        {
          "name": "stdout",
          "output_type": "stream",
          "text": [
            "--2025-01-29 06:50:51--  https://drive.google.com/uc?export=download&id=1-UHqW8wgH46J-ltEdUfOX-DounUbZMAI\n",
            "Resolving drive.google.com (drive.google.com)... 108.177.98.101, 108.177.98.102, 108.177.98.100, ...\n",
            "Connecting to drive.google.com (drive.google.com)|108.177.98.101|:443... connected.\n",
            "HTTP request sent, awaiting response... 303 See Other\n",
            "Location: https://drive.usercontent.google.com/download?id=1-UHqW8wgH46J-ltEdUfOX-DounUbZMAI&export=download [following]\n",
            "--2025-01-29 06:50:51--  https://drive.usercontent.google.com/download?id=1-UHqW8wgH46J-ltEdUfOX-DounUbZMAI&export=download\n",
            "Resolving drive.usercontent.google.com (drive.usercontent.google.com)... 74.125.197.132, 2607:f8b0:400e:c03::84\n",
            "Connecting to drive.usercontent.google.com (drive.usercontent.google.com)|74.125.197.132|:443... connected.\n",
            "HTTP request sent, awaiting response... 200 OK\n",
            "Length: 4023 (3.9K) [application/octet-stream]\n",
            "Saving to: ‘test_label.pickle’\n",
            "\n",
            "test_label.pickle   100%[===================>]   3.93K  --.-KB/s    in 0s      \n",
            "\n",
            "2025-01-29 06:50:54 (28.5 MB/s) - ‘test_label.pickle’ saved [4023/4023]\n",
            "\n"
          ]
        }
      ],
      "source": [
        "!wget 'https://drive.google.com/uc?export=download&id=1-UHqW8wgH46J-ltEdUfOX-DounUbZMAI' -O test_label.pickle\n",
        "with open('test_label.pickle', \"rb\") as fp:\n",
        "  test_label = pickle.load(fp, encoding=\"latin-1\")"
      ]
    },
    {
      "cell_type": "code",
      "execution_count": null,
      "metadata": {
        "colab": {
          "base_uri": "https://localhost:8080/"
        },
        "id": "uUJSQCLtz5DP",
        "outputId": "5a5bea97-18f0-462e-86dd-26436a626ac1"
      },
      "outputs": [
        {
          "name": "stdout",
          "output_type": "stream",
          "text": [
            "正解率 : 87 %\n"
          ]
        }
      ],
      "source": [
        "labels = torch.tensor(test_label['label'])\n",
        "correct = (predictions.cpu() == labels).sum().item()\n",
        "assert len(predictions) == len(labels)\n",
        "print( f\"正解率 : {100 * correct // len(labels)} %\" )"
      ]
    }
  ],
  "metadata": {
    "accelerator": "GPU",
    "colab": {
      "machine_shape": "hm",
      "provenance": []
    },
    "kernelspec": {
      "display_name": "Python 3",
      "name": "python3"
    },
    "language_info": {
      "name": "python"
    }
  },
  "nbformat": 4,
  "nbformat_minor": 0
}
